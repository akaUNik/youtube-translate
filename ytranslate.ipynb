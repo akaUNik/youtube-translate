{
  "nbformat": 4,
  "nbformat_minor": 0,
  "metadata": {
    "colab": {
      "provenance": [],
      "authorship_tag": "ABX9TyN4t3qWxdPNN/FPS0a7gaTZ",
      "include_colab_link": true
    },
    "kernelspec": {
      "name": "python3",
      "display_name": "Python 3"
    },
    "language_info": {
      "name": "python"
    }
  },
  "cells": [
    {
      "cell_type": "markdown",
      "metadata": {
        "id": "view-in-github",
        "colab_type": "text"
      },
      "source": [
        "<a href=\"https://colab.research.google.com/github/alex2844/youtube-translate/blob/main/ytranslate.ipynb\" target=\"_parent\"><img src=\"https://colab.research.google.com/assets/colab-badge.svg\" alt=\"Open In Colab\"/></a>"
      ]
    },
    {
      "cell_type": "code",
      "source": [
        "# @title Settings\n",
        "import os\n",
        "from google.colab import drive\n",
        "\n",
        "URL = '' # @param {\"type\":\"string\",\"placeholder\":\" \"}\n",
        "SAVE = 'save' # @param [\"download\", \"save\"]\n",
        "\n",
        "os.environ['URL'] = URL;\n",
        "os.environ['version'] = 'main'\n",
        "\n",
        "if SAVE == 'save':\n",
        "    if not os.path.exists('/content/drive'):\n",
        "        drive.mount('/content/drive');\n",
        "    if not os.path.exists('/content/drive/MyDrive/ytranslate'):\n",
        "        os.mkdir('/content/drive/MyDrive/ytranslate')"
      ],
      "metadata": {
        "id": "0iLQPYt1vQdH",
        "cellView": "form"
      },
      "execution_count": 3,
      "outputs": []
    },
    {
      "cell_type": "code",
      "source": [
        "# @title Download\n",
        "%%bash\n",
        "if ! command -v xattr &>/dev/null; then\n",
        "    apt install xattr\n",
        "fi\n",
        "source <(wget -qO- \"https://raw.githubusercontent.com/alex2844/youtube-translate/$version/ytranslate.sh\")\n",
        "echo \"title=${title}\" > .env"
      ],
      "metadata": {
        "cellView": "form",
        "id": "UUqOSrlKr6B0"
      },
      "execution_count": null,
      "outputs": []
    },
    {
      "cell_type": "code",
      "source": [
        "# @title Save\n",
        "import os\n",
        "from google.colab import files, drive\n",
        "\n",
        "with open('.env', 'r') as f:\n",
        "    for line in f:\n",
        "        line = line.strip();\n",
        "        if line and '=' in line:\n",
        "            key, value = line.split('=', 1);\n",
        "            os.environ[key] = value;\n",
        "mp4 = os.environ['title'] + '.mp4';\n",
        "if SAVE == 'download':\n",
        "    files.download(mp4);\n",
        "else:\n",
        "    if not os.path.exists('/content/drive/MyDrive/ytranslate/' + mp4):\n",
        "        ! cp \"$mp4\" \"/content/drive/MyDrive/ytranslate/\";\n",
        "    fid = ! xattr -p 'user.drive.id' '/content/drive/MyDrive/ytranslate/{mp4}'\n",
        "    print('https://drive.google.com/file/d/' + fid[0] + '/view')"
      ],
      "metadata": {
        "id": "61F_vjgF1D7q",
        "cellView": "form"
      },
      "execution_count": null,
      "outputs": []
    }
  ]
}